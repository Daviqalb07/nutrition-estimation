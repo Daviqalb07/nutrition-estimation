{
 "cells": [
  {
   "cell_type": "code",
   "execution_count": 1,
   "metadata": {},
   "outputs": [],
   "source": [
    "import os\n",
    "import json\n",
    "from sklearn.metrics import (\n",
    "    mean_absolute_error,\n",
    "    mean_absolute_percentage_error,\n",
    "    root_mean_squared_error,\n",
    "    r2_score\n",
    ")"
   ]
  },
  {
   "cell_type": "code",
   "execution_count": 2,
   "metadata": {},
   "outputs": [],
   "source": [
    "os.chdir(\"..\")"
   ]
  },
  {
   "cell_type": "markdown",
   "metadata": {},
   "source": [
    "## Importing the metadata"
   ]
  },
  {
   "cell_type": "code",
   "execution_count": 3,
   "metadata": {},
   "outputs": [],
   "source": [
    "METADATA_PATH = \"data/silver/metadata\"\n",
    "\n",
    "metadata = {}\n",
    "for metadata_filename in os.listdir(METADATA_PATH):\n",
    "    with open(f\"{METADATA_PATH}/{metadata_filename}\") as metadata_file:\n",
    "        dish_metadata = json.load(metadata_file)\n",
    "        metadata[dish_metadata[\"dish_id\"]] = dish_metadata"
   ]
  },
  {
   "cell_type": "markdown",
   "metadata": {},
   "source": [
    "## Importing the results"
   ]
  },
  {
   "cell_type": "code",
   "execution_count": 4,
   "metadata": {},
   "outputs": [],
   "source": [
    "RESULTS_PATH = \"results/gemini\"\n",
    "\n",
    "results = {}\n",
    "for result_filename in os.listdir(RESULTS_PATH):\n",
    "    with open(f\"{RESULTS_PATH}/{result_filename}\") as result_file:\n",
    "        result = json.load(result_file)\n",
    "        results[result[\"dishId\"]] = result"
   ]
  },
  {
   "cell_type": "markdown",
   "metadata": {},
   "source": [
    "## Evaluating metrics for carbohydrates"
   ]
  },
  {
   "cell_type": "code",
   "execution_count": 5,
   "metadata": {},
   "outputs": [],
   "source": [
    "Y_test_carb = []\n",
    "Y_pred_carb = []\n",
    "\n",
    "for dish_id, dish_metadata in metadata.items():\n",
    "    if dish_id in results:\n",
    "        Y_test_carb.append(dish_metadata[\"total_carb\"])\n",
    "        predicted = results.get(dish_id)[\"totalCarbohydrates\"]\n",
    "        Y_pred_carb.append(predicted)"
   ]
  },
  {
   "cell_type": "code",
   "execution_count": 6,
   "metadata": {},
   "outputs": [
    {
     "name": "stdout",
     "output_type": "stream",
     "text": [
      "17.18814728796844\n"
     ]
    }
   ],
   "source": [
    "print(mean_absolute_error(Y_test_carb, Y_pred_carb))"
   ]
  },
  {
   "cell_type": "code",
   "execution_count": 7,
   "metadata": {},
   "outputs": [
    {
     "name": "stdout",
     "output_type": "stream",
     "text": [
      "25.145243550819103\n"
     ]
    }
   ],
   "source": [
    "print(root_mean_squared_error(Y_test_carb, Y_pred_carb))"
   ]
  },
  {
   "cell_type": "code",
   "execution_count": 8,
   "metadata": {},
   "outputs": [
    {
     "name": "stdout",
     "output_type": "stream",
     "text": [
      "44414197508586.85\n"
     ]
    }
   ],
   "source": [
    "print(mean_absolute_percentage_error(Y_test_carb, Y_pred_carb))"
   ]
  },
  {
   "cell_type": "code",
   "execution_count": 9,
   "metadata": {},
   "outputs": [
    {
     "name": "stdout",
     "output_type": "stream",
     "text": [
      "-1.0831107994644338\n"
     ]
    }
   ],
   "source": [
    "print(r2_score(Y_test_carb, Y_pred_carb))"
   ]
  },
  {
   "cell_type": "markdown",
   "metadata": {},
   "source": [
    "## Evaluating metrics for calories"
   ]
  },
  {
   "cell_type": "code",
   "execution_count": 10,
   "metadata": {},
   "outputs": [],
   "source": [
    "Y_test_calories = []\n",
    "Y_pred_calories = []\n",
    "\n",
    "for dish_id, dish_metadata in metadata.items():\n",
    "    if dish_id in results:\n",
    "        Y_test_calories.append(dish_metadata[\"total_calories\"])\n",
    "        predicted = results.get(dish_id)[\"totalCalories\"]\n",
    "        Y_pred_calories.append(predicted)"
   ]
  },
  {
   "cell_type": "code",
   "execution_count": 11,
   "metadata": {},
   "outputs": [
    {
     "name": "stdout",
     "output_type": "stream",
     "text": [
      "113.58337371203154\n"
     ]
    }
   ],
   "source": [
    "print(mean_absolute_error(Y_test_calories, Y_pred_calories))"
   ]
  },
  {
   "cell_type": "code",
   "execution_count": 12,
   "metadata": {},
   "outputs": [
    {
     "name": "stdout",
     "output_type": "stream",
     "text": [
      "0.7447499524971906\n"
     ]
    }
   ],
   "source": [
    "print(mean_absolute_percentage_error(Y_test_calories, Y_pred_calories))"
   ]
  }
 ],
 "metadata": {
  "kernelspec": {
   "display_name": "venv",
   "language": "python",
   "name": "python3"
  },
  "language_info": {
   "codemirror_mode": {
    "name": "ipython",
    "version": 3
   },
   "file_extension": ".py",
   "mimetype": "text/x-python",
   "name": "python",
   "nbconvert_exporter": "python",
   "pygments_lexer": "ipython3",
   "version": "3.10.12"
  }
 },
 "nbformat": 4,
 "nbformat_minor": 2
}
