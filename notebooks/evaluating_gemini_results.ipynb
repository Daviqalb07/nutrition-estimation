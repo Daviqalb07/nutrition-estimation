{
 "cells": [
  {
   "cell_type": "code",
   "execution_count": 1,
   "metadata": {},
   "outputs": [],
   "source": [
    "import os\n",
    "import json\n",
    "from sklearn.metrics import mean_absolute_error\n",
    "import scipy.stats as st\n",
    "import numpy as np"
   ]
  },
  {
   "cell_type": "code",
   "execution_count": 2,
   "metadata": {},
   "outputs": [],
   "source": [
    "os.chdir(\"..\")"
   ]
  },
  {
   "cell_type": "markdown",
   "metadata": {},
   "source": [
    "## Importing the metadata"
   ]
  },
  {
   "cell_type": "code",
   "execution_count": 3,
   "metadata": {},
   "outputs": [],
   "source": [
    "METADATA_PATH = \"data/silver/metadata\"\n",
    "\n",
    "metadata = {}\n",
    "for metadata_filename in os.listdir(METADATA_PATH):\n",
    "    with open(f\"{METADATA_PATH}/{metadata_filename}\") as metadata_file:\n",
    "        dish_metadata = json.load(metadata_file)\n",
    "        metadata[dish_metadata[\"dish_id\"]] = dish_metadata"
   ]
  },
  {
   "cell_type": "markdown",
   "metadata": {},
   "source": [
    "## Importing the results"
   ]
  },
  {
   "cell_type": "code",
   "execution_count": 4,
   "metadata": {},
   "outputs": [],
   "source": [
    "RESULTS_PATH = \"results\"\n",
    "\n",
    "models_names = [\n",
    "    \"gemini\",\n",
    "    \"gemini_split\"\n",
    "]\n",
    "\n",
    "models_results = {}\n",
    "\n",
    "for model_name in models_names:\n",
    "    model_results_path = f\"{RESULTS_PATH}/{model_name}\"\n",
    "    \n",
    "    results = {}\n",
    "    for result_filename in os.listdir(model_results_path):\n",
    "        with open(f\"{model_results_path}/{result_filename}\") as result_file:\n",
    "            result = json.load(result_file)\n",
    "            results[result[\"dishId\"]] = result\n",
    "    \n",
    "    models_results[model_name] = results"
   ]
  },
  {
   "cell_type": "markdown",
   "metadata": {},
   "source": [
    "## Evaluating results"
   ]
  },
  {
   "cell_type": "code",
   "execution_count": 5,
   "metadata": {},
   "outputs": [],
   "source": [
    "def confidence_interval(data, confidence=0.9, decimals=1):\n",
    "    mean = np.mean(data)\n",
    "    standard_error = st.sem(data, nan_policy=\"omit\")\n",
    "    \n",
    "    z_score = st.norm.ppf((1 + confidence) / 2)\n",
    "    margin_of_error = standard_error * z_score\n",
    "\n",
    "    lower_bound = round(mean - margin_of_error, decimals)\n",
    "    upper_bound = round(mean + margin_of_error, decimals)\n",
    "\n",
    "    return lower_bound, upper_bound\n"
   ]
  },
  {
   "cell_type": "code",
   "execution_count": 6,
   "metadata": {},
   "outputs": [],
   "source": [
    "CONFIDENCE_LEVELS = [0.85, 0.9, 0.95, 0.99]"
   ]
  },
  {
   "cell_type": "code",
   "execution_count": 7,
   "metadata": {},
   "outputs": [
    {
     "name": "stdout",
     "output_type": "stream",
     "text": [
      "Gemini\n",
      "-> MAE carbohydrates = 17.2 g (SEM = 0.8 g)\n",
      "-> CHO error CI 85.0%: 16.0 - 18.4 (g)\n",
      "-> CHO error CI 90.0%: 15.8 - 18.5 (g)\n",
      "-> CHO error CI 95.0%: 15.6 - 18.8 (g)\n",
      "-> CHO error CI 99.0%: 15.1 - 19.3 (g)\n",
      "-> MAE calories = 113.6 kcal (SEM = 5.3 kcal)\n",
      "-> Calories error CI 85.0%: 105.9 - 121.3 (kcal)\n",
      "-> Calories error CI 90.0%: 104.8 - 122.4 (kcal)\n",
      "-> Calories error CI 95.0%: 103.1 - 124.1 (kcal)\n",
      "-> Calories error CI 99.0%: 99.8 - 127.4 (kcal)\n",
      "-> Average processing time = 2.76 s\n",
      "\n",
      "Gemini_split\n",
      "-> MAE carbohydrates = 14.9 g (SEM = 1.2 g)\n",
      "-> CHO error CI 85.0%: 13.1 - 16.7 (g)\n",
      "-> CHO error CI 90.0%: 12.9 - 17.0 (g)\n",
      "-> CHO error CI 95.0%: 12.5 - 17.4 (g)\n",
      "-> CHO error CI 99.0%: 11.7 - 18.1 (g)\n",
      "-> MAE calories = 113.5 kcal (SEM = 6.6 kcal)\n",
      "-> Calories error CI 85.0%: 104.1 - 123.0 (kcal)\n",
      "-> Calories error CI 90.0%: 102.7 - 124.3 (kcal)\n",
      "-> Calories error CI 95.0%: 100.7 - 126.4 (kcal)\n",
      "-> Calories error CI 99.0%: 96.6 - 130.4 (kcal)\n",
      "-> Average processing time = 3.74 s\n",
      "\n"
     ]
    }
   ],
   "source": [
    "for model_name, model_results in models_results.items():\n",
    "    Y_test_carb = []\n",
    "    Y_pred_carb = []\n",
    "\n",
    "    Y_test_calories = []\n",
    "    Y_pred_calories = []\n",
    "\n",
    "    processing_times = []\n",
    "\n",
    "    for dish_id, dish_metadata in metadata.items():\n",
    "        if dish_id in model_results:\n",
    "            result = model_results.get(dish_id)\n",
    "\n",
    "            Y_test_carb.append(dish_metadata[\"total_carb\"])\n",
    "            Y_pred_carb.append(result[\"totalCarbohydrates\"])\n",
    "\n",
    "            Y_test_calories.append(dish_metadata[\"total_calories\"])\n",
    "            Y_pred_calories.append(result[\"totalCalories\"])\n",
    "\n",
    "            processing_times.append(result[\"elapsedTime\"])\n",
    "\n",
    "    mae_carb = mean_absolute_error(Y_test_carb, Y_pred_carb)\n",
    "    residuals_carb = np.abs(np.array(Y_pred_carb) - np.array(Y_test_carb))\n",
    "    sem_carb = st.sem(residuals_carb)\n",
    "\n",
    "    confidence_intervals = []\n",
    "    \n",
    "    mae_calories = mean_absolute_error(Y_test_calories, Y_pred_calories)\n",
    "    residuals_calories = np.abs(np.array(Y_pred_calories) - np.array(Y_test_calories))\n",
    "    sem_calories = st.sem(residuals_calories)\n",
    "\n",
    "    avg_time = np.mean(processing_times)\n",
    "\n",
    "    print(f\"{model_name.capitalize()}\")\n",
    "    print(f\"-> MAE carbohydrates = {mae_carb:.1f} g (SEM = {sem_carb:.1f} g)\")\n",
    "    for confidence_level in CONFIDENCE_LEVELS:\n",
    "        interval = confidence_interval(residuals_carb, confidence_level)\n",
    "        print(f\"-> CHO error CI {confidence_level * 100}%: {interval[0]} - {interval[1]} (g)\")\n",
    "    print(f\"-> MAE calories = {mae_calories:.1f} kcal (SEM = {sem_calories:.1f} kcal)\")\n",
    "    for confidence_level in CONFIDENCE_LEVELS:\n",
    "        interval = confidence_interval(residuals_calories, confidence_level)\n",
    "        print(f\"-> Calories error CI {confidence_level * 100}%: {interval[0]} - {interval[1]} (kcal)\")\n",
    "    print(f\"-> Average processing time = {avg_time:.2f} s\")\n",
    "    print()"
   ]
  }
 ],
 "metadata": {
  "kernelspec": {
   "display_name": "venv",
   "language": "python",
   "name": "python3"
  },
  "language_info": {
   "codemirror_mode": {
    "name": "ipython",
    "version": 3
   },
   "file_extension": ".py",
   "mimetype": "text/x-python",
   "name": "python",
   "nbconvert_exporter": "python",
   "pygments_lexer": "ipython3",
   "version": "3.10.12"
  }
 },
 "nbformat": 4,
 "nbformat_minor": 2
}
